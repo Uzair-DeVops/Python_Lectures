{
 "cells": [
  {
   "cell_type": "code",
   "execution_count": 4,
   "metadata": {},
   "outputs": [
    {
     "name": "stdout",
     "output_type": "stream",
     "text": [
      "i is 20\n"
     ]
    }
   ],
   "source": [
    "\n",
    "i = 25\n",
    "if (i == 10):\n",
    "    print(\"i is 10\")\n",
    "elif (i == 21):\n",
    "    print(\"i is 15\")\n",
    "elif (i == 22):\n",
    "    print(\"i is 20\")\n",
    "elif (i == 0):\n",
    "    print(\"i is 20\")\n",
    "elif (i == 19):\n",
    "    print(\"i is 20\")\n",
    "elif (i == 25):\n",
    "    print(\"i is 20\")\n",
    "elif (i == 18):\n",
    "    print(\"i is 20\")\n",
    "elif (i == 30):\n",
    "    print(\"i is 20\")\n",
    "elif (i == 90):\n",
    "    print(\"i is 20\") \n",
    "else:\n",
    "    print(\"i is not present\")"
   ]
  }
 ],
 "metadata": {
  "kernelspec": {
   "display_name": "Python 3",
   "language": "python",
   "name": "python3"
  },
  "language_info": {
   "codemirror_mode": {
    "name": "ipython",
    "version": 3
   },
   "file_extension": ".py",
   "mimetype": "text/x-python",
   "name": "python",
   "nbconvert_exporter": "python",
   "pygments_lexer": "ipython3",
   "version": "3.12.5"
  }
 },
 "nbformat": 4,
 "nbformat_minor": 2
}
